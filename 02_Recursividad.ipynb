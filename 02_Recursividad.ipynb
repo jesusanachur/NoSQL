{
  "cells": [
    {
      "cell_type": "markdown",
      "metadata": {
        "id": "view-in-github",
        "colab_type": "text"
      },
      "source": [
        "<a href=\"https://colab.research.google.com/github/jesusanachur/NoSQL/blob/master/02_Recursividad.ipynb\" target=\"_parent\"><img src=\"https://colab.research.google.com/assets/colab-badge.svg\" alt=\"Open In Colab\"/></a>"
      ]
    },
    {
      "cell_type": "markdown",
      "metadata": {
        "id": "zjq0ohXm5kJz"
      },
      "source": [
        "# Recursión"
      ]
    },
    {
      "cell_type": "markdown",
      "metadata": {
        "id": "z9DuV8KH5kJ3"
      },
      "source": [
        "## ¿Qué es la recursión?\n",
        "\n",
        "La recursión es un concepto en programación en el cual una función se llama a sí misma para resolver un problema. Es similar a una estructura de bucle, pero en lugar de repetir un bloque de código, la función se divide en tareas más pequeñas y se resuelve a través de llamadas recursivas.\n",
        "\n",
        "La recursión es especialmente útil para abordar problemas que pueden descomponerse en subproblemas más simples y similares. A menudo, se utiliza en algoritmos que siguen la idea de \"divide y vencerás\"."
      ]
    },
    {
      "cell_type": "markdown",
      "metadata": {
        "id": "YxPvTRba5kJ4"
      },
      "source": [
        "## Elementos de una función recursiva\n",
        "\n",
        "* **Caso Base:** Es el punto de terminación de la recursión. Define la condición en la que la función deja de llamarse a sí misma y comienza a regresar resultados.\n",
        "\n",
        "* **Caso Recursivo:** Es la parte de la función en la que se realiza la llamada a sí misma, generalmente con argumentos diferentes para resolver un subproblema más pequeño."
      ]
    },
    {
      "cell_type": "markdown",
      "metadata": {
        "id": "7C5P9k6-5kJ5"
      },
      "source": [
        "## Ejemplo de una función recursiva"
      ]
    },
    {
      "cell_type": "markdown",
      "metadata": {
        "id": "UXhZC3Qx5kJ5"
      },
      "source": [
        "### Función factorial"
      ]
    },
    {
      "cell_type": "markdown",
      "metadata": {
        "id": "cYnnvgVh5kJ6"
      },
      "source": [
        "Un ejemplo clásico de uso de la recursión es el cálculo del factorial de un número. El factorial de un número entero positivo `n` se define como el producto de todos los números enteros positivos desde 1 hasta `n`.\n",
        "\n",
        "Por ejemplo, el factorial de 5 se calcula como:\n",
        "\n",
        "```python\n",
        "5! = 5 * 4!\n",
        "   = 5 * 4 * 3!\n",
        "   = 5 * 4 * 3 * 2!\n",
        "   = 5 * 4 * 3 * 2 * 1!\n",
        "   = 5 * 4 * 3 * 2 * 1 * 0!\n",
        "   = 5 * 4 * 3 * 2 * 1 * 1\n",
        "   = 5 * 4 * 3 * 2 * 1\n",
        "   = 5 * 4 * 3 * 2\n",
        "   = 5 * 4 * 6\n",
        "   = 5 * 24\n",
        "   = 120\n",
        "```\n",
        "\n",
        "La función factorial se puede definir de la siguiente manera:\n",
        "\n",
        "```python\n",
        "def factorial(n):\n",
        "    # Caso base\n",
        "    if n == 0:\n",
        "        return 1\n",
        "    # Caso recursivo\n",
        "    else:\n",
        "        return n * factorial(n - 1)\n",
        "```\n",
        "\n",
        "En este ejemplo, el caso base es cuando `n` es `0` o `1`, en cuyo caso el factorial es `1`. En el caso recursivo, la función se llama a sí misma con `n - 1` y se multiplica por `n`. Esto continúa hasta que `n` es `0` o `1`, momento en el que la función comienza a regresar resultados."
      ]
    },
    {
      "cell_type": "code",
      "execution_count": null,
      "metadata": {
        "id": "K9PcF3I55kJ7",
        "outputId": "c6f118a0-8488-4884-9ff7-b8fe7f5ea75d"
      },
      "outputs": [
        {
          "data": {
            "text/plain": [
              "120"
            ]
          },
          "execution_count": 1,
          "metadata": {},
          "output_type": "execute_result"
        }
      ],
      "source": [
        "def factorial(n):\n",
        "    # Caso base\n",
        "    if n == 0:\n",
        "        return 1\n",
        "    # Caso recursivo\n",
        "    else:\n",
        "        return n * factorial(n - 1)\n",
        "\n",
        "factorial(5)"
      ]
    },
    {
      "cell_type": "code",
      "execution_count": null,
      "metadata": {
        "id": "JS3JqSWi5kJ9",
        "outputId": "c8e1786e-539c-407d-9234-dc54aa260c33"
      },
      "outputs": [
        {
          "name": "stdout",
          "output_type": "stream",
          "text": [
            "factorial(5) = 5 * 4! | 5 * factorial(4)\n",
            "factorial(4) = 4 * 3! | 4 * factorial(3)\n",
            "factorial(3) = 3 * 2! | 3 * factorial(2)\n",
            "factorial(2) = 2 * 1! | 2 * factorial(1)\n",
            "factorial(1) = 1 * 0! | 1 * factorial(0)\n",
            "factorial(0) = Caso base: 0! = 1\n"
          ]
        },
        {
          "data": {
            "text/plain": [
              "120"
            ]
          },
          "execution_count": 2,
          "metadata": {},
          "output_type": "execute_result"
        }
      ],
      "source": [
        "def factorial_visual(n):\n",
        "    print(f'factorial({n}) = ', end='')\n",
        "    # Caso base\n",
        "    if n == 0:\n",
        "        print(f'Caso base: {n}! = 1')\n",
        "        return 1\n",
        "    # Caso recursivo\n",
        "    else:\n",
        "        print(f'{n} * {n-1}! | {n} * factorial({n - 1})')\n",
        "        return n * factorial_visual(n - 1)\n",
        "\n",
        "factorial_visual(5)"
      ]
    },
    {
      "cell_type": "markdown",
      "metadata": {
        "id": "9xD2UdKJ5kJ-"
      },
      "source": [
        "### Función Sumatoria"
      ]
    },
    {
      "cell_type": "markdown",
      "metadata": {
        "id": "zY2VK31r5kJ-"
      },
      "source": [
        "Otro ejemplo es el cálculo de la suma de los primeros `n` números enteros positivos.\n",
        "\n",
        "Por ejemplo, la suma de los primeros 5 números enteros positivos se calcula como:\n",
        "\n",
        "$$\\sum_{n=1}^5 i = 1 + 2 + 3 + 4 + 5 = 15$$\n",
        "\n",
        "$$\n",
        "\\sum_{n=1}^5 i = 1 + \\sum_{n=2}^5 i \\newline\n",
        "\\sum_{n=1}^5 i = 1 + 2 + \\sum_{n=3}^5 i \\newline\n",
        "\\sum_{n=1}^5 i = 1 + 2 + 3 + \\sum_{n=4}^5 i \\newline\n",
        "\\sum_{n=1}^5 i = 1 + 2 + 3 + 4 + \\sum_{n=5}^5 i \\newline\n",
        "\\sum_{n=1}^5 i = 1 + 2 + 3 + 4 + 5 \\newline\n",
        "\\sum_{n=1}^5 i = 1 + 2 + 3 + 9 \\newline\n",
        "\\sum_{n=1}^5 i = 1 + 2 + 12 \\newline\n",
        "\\sum_{n=1}^5 i = 1 + 14 \\newline\n",
        "\\sum_{n=1}^5 i = 15 \\newline\n",
        "$$\n",
        "\n",
        "La función sumatoria se puede definir de la siguiente manera:\n",
        "\n",
        "```python\n",
        "def sumatoria(n):\n",
        "    # Caso base\n",
        "    if n == 1:\n",
        "        return 1\n",
        "    # Caso recursivo\n",
        "    else:\n",
        "        return n + sumatoria(n - 1)\n",
        "```"
      ]
    },
    {
      "cell_type": "code",
      "execution_count": null,
      "metadata": {
        "id": "swZRUf2E5kJ-",
        "outputId": "e37100ff-96b9-4387-c692-710af56467f7"
      },
      "outputs": [
        {
          "data": {
            "text/plain": [
              "15"
            ]
          },
          "execution_count": 3,
          "metadata": {},
          "output_type": "execute_result"
        }
      ],
      "source": [
        "def sumatoria(n):\n",
        "    # Caso base\n",
        "    if n == 1:\n",
        "        return 1\n",
        "    # Caso recursivo\n",
        "    else:\n",
        "        return n + sumatoria(n - 1)\n",
        "\n",
        "sumatoria(5)"
      ]
    },
    {
      "cell_type": "code",
      "execution_count": null,
      "metadata": {
        "id": "bK2P3-Q95kJ_",
        "outputId": "db00b75b-6eac-4b2c-d7d3-ad51d1b8d5b3"
      },
      "outputs": [
        {
          "name": "stdout",
          "output_type": "stream",
          "text": [
            "sumatoria(5) = 5 + sumatoria(4)\n",
            "sumatoria(4) = 4 + sumatoria(3)\n",
            "sumatoria(3) = 3 + sumatoria(2)\n",
            "sumatoria(2) = 2 + sumatoria(1)\n",
            "sumatoria(1) = Caso base: 1 = 1\n"
          ]
        },
        {
          "data": {
            "text/plain": [
              "15"
            ]
          },
          "execution_count": 4,
          "metadata": {},
          "output_type": "execute_result"
        }
      ],
      "source": [
        "def sumatoria_visual(n):\n",
        "    print(f'sumatoria({n}) = ', end='')\n",
        "    # Caso base\n",
        "    if n == 1:\n",
        "        print(f'Caso base: {n} = 1')\n",
        "        return 1\n",
        "    # Caso recursivo\n",
        "    else:\n",
        "        print(f'{n} + sumatoria({n - 1})')\n",
        "        return n + sumatoria_visual(n - 1)\n",
        "\n",
        "sumatoria_visual(5)"
      ]
    },
    {
      "cell_type": "markdown",
      "metadata": {
        "id": "2szDmnrZ5kJ_"
      },
      "source": [
        "## Ejercicios"
      ]
    },
    {
      "cell_type": "markdown",
      "metadata": {
        "id": "fWmHX7tq5kJ_"
      },
      "source": [
        "### Ejercicio 1: Función potencia\n",
        "\n",
        "Escribe una función recursiva que calcule la potencia de un número entero positivo `x` elevado a un número entero positivo `y`.\n",
        "\n",
        "Por ejemplo, la potencia de 2 elevado a 3 se calcula como:\n",
        "\n",
        "$$2^3 = 2 * 2^2 = 2 * 2 * 2^1 = 2 * 2 * 2 * 2^0 = 2 * 2 * 2 * 1 = 8$$"
      ]
    },
    {
      "cell_type": "code",
      "execution_count": null,
      "metadata": {
        "colab": {
          "base_uri": "https://localhost:8080/"
        },
        "id": "HFUGm3oV5kKA",
        "outputId": "dbcbe8d5-1fd5-46e3-acc5-5d5fb81a70c7"
      },
      "outputs": [
        {
          "output_type": "execute_result",
          "data": {
            "text/plain": [
              "8"
            ]
          },
          "metadata": {},
          "execution_count": 5
        }
      ],
      "source": [
        "def caso_base(n,m):\n",
        "  if m ==0:\n",
        "    return 1\n",
        "  else:\n",
        "      return n *caso_base(n,m -1)\n",
        "\n",
        "caso_base(2,3)"
      ]
    },
    {
      "cell_type": "code",
      "execution_count": 21,
      "metadata": {
        "id": "BgZG5DAV5kKA",
        "colab": {
          "base_uri": "https://localhost:8080/"
        },
        "outputId": "458bb81c-9b0d-45f4-9250-e35e0568139e"
      },
      "outputs": [
        {
          "output_type": "stream",
          "name": "stdout",
          "text": [
            "5\n"
          ]
        }
      ],
      "source": [
        "def fibonna(n):\n",
        "  if n==0:\n",
        "    return 0\n",
        "  elif n==1:\n",
        "    return 1\n",
        "  else:\n",
        "     return fibonna(n-1)+ fibonna(n-2)\n",
        "\n",
        "print(fibonna (5))"
      ]
    },
    {
      "cell_type": "markdown",
      "metadata": {
        "id": "9b8BMayc5kKA"
      },
      "source": [
        "### Ejercicio 3: Función de Ackermann\n",
        "\n",
        "Escribe una función recursiva que calcule la función de Ackermann.\n",
        "\n",
        "La función de Ackermann se define como:\n",
        "\n",
        "$$\n",
        "A(m, n) = \\begin{cases}\n",
        "              n + 1 & \\text{si } m = 0 \\\\\n",
        "              A(m - 1, 1) & \\text{si } m > 0 \\text{ y } n = 0 \\\\\n",
        "              A(m - 1, A(m, n - 1)) & \\text{si } m > 0 \\text{ y } n > 0\n",
        "          \\end{cases}\n",
        "$$\n",
        "\n",
        "Por ejemplo, `A(1, 2)` se calcula como:\n",
        "\n",
        "```python\n",
        "A(1, 2) = A(0, A(1, 1))\n",
        "A(1, 2) = A(0, A(0, A(1, 0)))\n",
        "A(1, 2) = A(0, A(0, A(0, 1)))\n",
        "A(1, 2) = A(0, A(0, 2))\n",
        "A(1, 2) = A(0, 3)\n",
        "A(1, 2) = 4\n",
        "```"
      ]
    },
    {
      "cell_type": "code",
      "execution_count": 22,
      "metadata": {
        "colab": {
          "base_uri": "https://localhost:8080/"
        },
        "id": "_7xYkvOI5kKB",
        "outputId": "e0997666-c312-46d5-b794-7a659e9fb15e"
      },
      "outputs": [
        {
          "output_type": "stream",
          "name": "stdout",
          "text": [
            "9\n"
          ]
        }
      ],
      "source": [
        "def Ackermann (m,n):\n",
        "  if m ==0:\n",
        "    return n +1\n",
        "  elif m >0 and n ==0:\n",
        "    return Ackermann(m-1,1)\n",
        "  elif m>0 and n>0:\n",
        "    return Ackermann(m-1,Ackermann(m,n-1))\n",
        "\n",
        "print(Ackermann(2,3) )\n",
        "\n",
        "\n",
        "\n",
        "\n"
      ]
    }
  ],
  "metadata": {
    "kernelspec": {
      "display_name": "Fullstack",
      "language": "python",
      "name": "fullstack"
    },
    "language_info": {
      "codemirror_mode": {
        "name": "ipython",
        "version": 3
      },
      "file_extension": ".py",
      "mimetype": "text/x-python",
      "name": "python",
      "nbconvert_exporter": "python",
      "pygments_lexer": "ipython3",
      "version": "3.11.0"
    },
    "orig_nbformat": 4,
    "colab": {
      "provenance": [],
      "include_colab_link": true
    }
  },
  "nbformat": 4,
  "nbformat_minor": 0
}